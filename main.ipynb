{
 "cells": [
  {
   "cell_type": "code",
   "execution_count": null,
   "metadata": {},
   "outputs": [],
   "source": [
    "# So that external files (e.g., editing files in PyCharm) is reloaded in Jupyter Notebooks when they\n",
    "# are updated.\n",
    "%load_ext autoreload\n",
    "%autoreload 2\n",
    "\n",
    "%load_ext tensorboard"
   ]
  },
  {
   "cell_type": "code",
   "execution_count": null,
   "metadata": {
    "jupyter": {
     "outputs_hidden": false
    }
   },
   "outputs": [],
   "source": [
    "import yaml\n",
    "\n",
    "import torch\n",
    "from torch import nn, optim\n",
    "from torch.utils import data\n",
    "import matplotlib.pyplot as plt\n",
    "from tqdm.auto import tqdm"
   ]
  },
  {
   "cell_type": "code",
   "execution_count": null,
   "metadata": {
    "jupyter": {
     "outputs_hidden": false
    }
   },
   "outputs": [],
   "source": [
    "from networks.unet import UNet\n",
    "from runners.diffusion import Diffusion\n",
    "\n",
    "import utilities.data as dutils\n",
    "import utilities.math as mutils\n",
    "import utilities.network as nutils\n",
    "import utilities.runner as rutils\n",
    "import utilities.utilities as utils"
   ]
  },
  {
   "cell_type": "code",
   "execution_count": null,
   "metadata": {},
   "outputs": [],
   "source": [
    "device = torch.device(\"cuda\" if torch.cuda.is_available() else \"cpu\")"
   ]
  },
  {
   "cell_type": "code",
   "execution_count": null,
   "metadata": {},
   "outputs": [],
   "source": [
    "def display_torch_image(image, norm=(0, 1)):\n",
    "    if len(image.shape) == 4:\n",
    "        image = image[0]\n",
    "    if norm is None:\n",
    "        norm = (image.min(), image.max())\n",
    "    image = (image - norm[0]) / (norm[1] - norm[0])\n",
    "    plt.figure()\n",
    "    plt.axis(\"off\")\n",
    "    plt.imshow(image.moveaxis(-3, -1).detach().cpu().numpy(), vmin=0, vmax=1)"
   ]
  },
  {
   "cell_type": "code",
   "execution_count": null,
   "metadata": {},
   "outputs": [],
   "source": [
    "config = utils.get_yaml(path=\"./configs/church.yml\")"
   ]
  },
  {
   "cell_type": "code",
   "execution_count": null,
   "metadata": {},
   "outputs": [],
   "source": [
    "diffusion = Diffusion(config, device=device)\n",
    "print(f\"Number of parameters: {diffusion.size()}\")"
   ]
  },
  {
   "cell_type": "code",
   "execution_count": null,
   "metadata": {},
   "outputs": [],
   "source": [
    "%tensorboard --logdir=logs --load_fast=false --samples_per_plugin images=10000"
   ]
  },
  {
   "cell_type": "code",
   "execution_count": null,
   "metadata": {
    "tags": []
   },
   "outputs": [],
   "source": [
    "diffusion.train()"
   ]
  },
  {
   "cell_type": "code",
   "execution_count": null,
   "metadata": {},
   "outputs": [],
   "source": [
    "diffusion.load(path=\"./logs/run_230223_151208/model_60000.pth\", ema=False)\n",
    "diffusion.load(path=\"./logs/run_230223_151208/ema_60000.pth\", ema=True)\n",
    "diffusion.freeze(ema=False)\n",
    "diffusion.freeze(ema=True)"
   ]
  },
  {
   "cell_type": "code",
   "execution_count": null,
   "metadata": {
    "tags": []
   },
   "outputs": [],
   "source": [
    "def naive_inversion(diffusion, target, z=None, num_t_steps=10, num_i=100, show_init=False):\n",
    "    if z is None:\n",
    "        z = torch.randn(*target.shape, device=device)\n",
    "    z.requires_grad_()\n",
    "    \n",
    "    if show_init:\n",
    "        with torch.no_grad():\n",
    "            y_0 = diffusion.sample(x=z.detach(), sequence=False,\n",
    "                                   num_t_steps=num_t_steps)[0].detach()\n",
    "        display_torch_image(y_0)\n",
    "    \n",
    "    optimizer = optim.Adam([z], lr=0.01, betas=(0.9, 0.999), eps=1e-8)\n",
    "    target = target.to(device)\n",
    "    \n",
    "    progress = tqdm(range(num_i), position=0)\n",
    "    for i in progress:\n",
    "        y = diffusion.sample(x=z, sequence=False, ema=True, num_t_steps=num_t_steps)[0]\n",
    "        loss = (target - y).abs().mean()\n",
    "        \n",
    "        loss.backward()\n",
    "        optimizer.step()\n",
    "        optimizer.zero_grad()\n",
    "        \n",
    "        progress.set_description(f\"Loss: {loss.detach().cpu().numpy()}\")\n",
    "        progress.refresh()\n",
    "    \n",
    "    with torch.no_grad():\n",
    "        y_t = diffusion.sample(x=z.detach(), sequence=False, num_t_steps=num_t_steps)[0].detach()\n",
    "    display_torch_image(y_t)\n",
    "    \n",
    "    return z"
   ]
  },
  {
   "cell_type": "code",
   "execution_count": null,
   "metadata": {},
   "outputs": [],
   "source": [
    "valid_dataset = dutils.get_dataset(name=config.data.dataset, shape=config.data.shape,\n",
    "                                   split=\"valid\", download=config.data.download)\n",
    "valid_loader = data.DataLoader(valid_dataset, batch_size=config.training.batch_size,\n",
    "                               shuffle=True, num_workers=config.data.num_workers)"
   ]
  },
  {
   "cell_type": "code",
   "execution_count": null,
   "metadata": {},
   "outputs": [],
   "source": [
    "test_image_1 = next(iter(valid_loader))[0][0]\n",
    "test_image_2 = next(iter(valid_loader))[0][0]\n",
    "display_torch_image(test_image_1)\n",
    "display_torch_image(test_image_2)"
   ]
  },
  {
   "cell_type": "code",
   "execution_count": null,
   "metadata": {},
   "outputs": [],
   "source": [
    "num_i = 300\n",
    "num_t_steps = 10"
   ]
  },
  {
   "cell_type": "code",
   "execution_count": null,
   "metadata": {},
   "outputs": [],
   "source": [
    "z_1 = torch.randn(*test_image_1.shape, device=device)\n",
    "z_2 = torch.randn(*test_image_2.shape, device=device)"
   ]
  },
  {
   "cell_type": "code",
   "execution_count": null,
   "metadata": {},
   "outputs": [],
   "source": [
    "z_1_trained = naive_inversion(diffusion, test_image_1, z=z_1.clone(),\n",
    "                              num_i=num_i, num_t_steps=num_t_steps)\n",
    "z_2_trained = naive_inversion(diffusion, test_image_2, z=z_2.clone(),\n",
    "                              num_i=num_i, num_t_steps=num_t_steps)"
   ]
  },
  {
   "cell_type": "code",
   "execution_count": null,
   "metadata": {},
   "outputs": [],
   "source": [
    "def slerp(z1, z2, alpha):\n",
    "    theta = torch.acos(torch.sum(z1 * z2) / (torch.norm(z1) * torch.norm(z2)))\n",
    "    return torch.sin((1 - alpha) * theta) / torch.sin(theta) * z1 \\\n",
    "           + torch.sin(alpha * theta) / torch.sin(theta) * z2"
   ]
  },
  {
   "cell_type": "code",
   "execution_count": null,
   "metadata": {},
   "outputs": [],
   "source": [
    "z_mix = slerp(z_1_trained, z_2_trained, alpha=0.3)\n",
    "test_mix = diffusion.sample(x=z_mix, sequence=False, num_t_steps=num_t_steps)[0].detach()\n",
    "display_torch_image(test_mix)\n",
    "\n",
    "z_mix = slerp(z_1_trained, z_2_trained, alpha=0.5)\n",
    "test_mix = diffusion.sample(x=z_mix, sequence=False, num_t_steps=num_t_steps)[0].detach()\n",
    "display_torch_image(test_mix)\n",
    "\n",
    "z_mix = slerp(z_1_trained, z_2_trained, alpha=0.7)\n",
    "test_mix = diffusion.sample(x=z_mix, sequence=False, num_t_steps=num_t_steps)[0].detach()\n",
    "display_torch_image(test_mix)"
   ]
  },
  {
   "cell_type": "code",
   "execution_count": null,
   "metadata": {},
   "outputs": [],
   "source": [
    "from torch.utils import data\n",
    "from torchvision import transforms, datasets\n",
    "\n",
    "transform = transforms.Compose([transforms.CenterCrop((256, 256)), transforms.ToTensor()])\n",
    "\n",
    "lsun_data = datasets.LSUN(root=config.data.root, classes=[\"church_outdoor_train\"], transform=transform)\n",
    "lsun_loader = data.DataLoader(lsun_data, batch_size=config.training.batch_size,\n",
    "                              shuffle=True, num_workers=config.data.num_workers)"
   ]
  },
  {
   "cell_type": "code",
   "execution_count": null,
   "metadata": {},
   "outputs": [],
   "source": [
    "lsun_image = next(iter(lsun_loader))[0][0]\n",
    "print(lsun_image.shape)\n",
    "display_torch_image(lsun_image)"
   ]
  },
  {
   "cell_type": "code",
   "execution_count": null,
   "metadata": {},
   "outputs": [],
   "source": [
    "i = 0\n",
    "for image, label in tqdm(iter(lsun_loader)):\n",
    "    i += image.shape[0]\n",
    "print(i)"
   ]
  },
  {
   "cell_type": "code",
   "execution_count": null,
   "metadata": {},
   "outputs": [],
   "source": []
  }
 ],
 "metadata": {
  "kernelspec": {
   "display_name": "Python 3 (ipykernel)",
   "language": "python",
   "name": "python3"
  },
  "language_info": {
   "codemirror_mode": {
    "name": "ipython",
    "version": 3
   },
   "file_extension": ".py",
   "mimetype": "text/x-python",
   "name": "python",
   "nbconvert_exporter": "python",
   "pygments_lexer": "ipython3",
   "version": "3.9.16"
  }
 },
 "nbformat": 4,
 "nbformat_minor": 4
}
